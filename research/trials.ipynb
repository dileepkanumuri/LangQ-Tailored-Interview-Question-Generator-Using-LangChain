{
 "cells": [
  {
   "cell_type": "code",
   "execution_count": 1,
   "metadata": {},
   "outputs": [
    {
     "name": "stdout",
     "output_type": "stream",
     "text": [
      "ok\n"
     ]
    }
   ],
   "source": [
    "print(\"ok\")"
   ]
  },
  {
   "cell_type": "code",
   "execution_count": 2,
   "metadata": {},
   "outputs": [],
   "source": [
    "import os \n",
    "from dotenv import load_dotenv"
   ]
  },
  {
   "cell_type": "code",
   "execution_count": 3,
   "metadata": {},
   "outputs": [],
   "source": [
    "load_dotenv()\n",
    "OPENAI_API_KEY = os.getenv(\"OPENAI_API_KEY\")"
   ]
  },
  {
   "cell_type": "code",
   "execution_count": 4,
   "metadata": {},
   "outputs": [],
   "source": [
    "os.environ[\"OPENAI_API_KEY\"] = OPENAI_API_KEY"
   ]
  },
  {
   "cell_type": "code",
   "execution_count": 5,
   "metadata": {},
   "outputs": [],
   "source": [
    "from langchain.document_loaders import PyPDFLoader"
   ]
  },
  {
   "cell_type": "code",
   "execution_count": 6,
   "metadata": {},
   "outputs": [
    {
     "data": {
      "text/plain": [
       "'c:\\\\LangQ\\\\LangQ-Tailored-Interview-Question-Generator-Using-LangChain\\\\research'"
      ]
     },
     "execution_count": 6,
     "metadata": {},
     "output_type": "execute_result"
    }
   ],
   "source": [
    "%pwd"
   ]
  },
  {
   "cell_type": "code",
   "execution_count": 7,
   "metadata": {},
   "outputs": [
    {
     "name": "stdout",
     "output_type": "stream",
     "text": [
      "c:\\LangQ\\LangQ-Tailored-Interview-Question-Generator-Using-LangChain\n"
     ]
    }
   ],
   "source": [
    "%cd .."
   ]
  },
  {
   "cell_type": "code",
   "execution_count": 8,
   "metadata": {},
   "outputs": [
    {
     "data": {
      "text/plain": [
       "'c:\\\\LangQ\\\\LangQ-Tailored-Interview-Question-Generator-Using-LangChain'"
      ]
     },
     "execution_count": 8,
     "metadata": {},
     "output_type": "execute_result"
    }
   ],
   "source": [
    "%pwd"
   ]
  },
  {
   "cell_type": "code",
   "execution_count": 9,
   "metadata": {},
   "outputs": [],
   "source": [
    "file_path = \"data/stats.pdf\"\n",
    "loader = PyPDFLoader(file_path)\n",
    "data = loader.load()"
   ]
  },
  {
   "cell_type": "code",
   "execution_count": 10,
   "metadata": {},
   "outputs": [
    {
     "data": {
      "text/plain": [
       "3"
      ]
     },
     "execution_count": 10,
     "metadata": {},
     "output_type": "execute_result"
    }
   ],
   "source": [
    "len(data)\n"
   ]
  },
  {
   "cell_type": "code",
   "execution_count": 11,
   "metadata": {},
   "outputs": [],
   "source": [
    "question_gen = \"\"\n",
    "\n",
    "for page in data:\n",
    "    question_gen += page.page_content"
   ]
  },
  {
   "cell_type": "code",
   "execution_count": 12,
   "metadata": {},
   "outputs": [
    {
     "data": {
      "text/plain": [
       "'ImportanceandtheuseofcorrelationinStatistics\\nIntroduction\\nCorrelationisastatistical measurethat expressestheextent towhichtwovariablesarelinearlyrelated. It isacommontool fordescribingsimplerelationshipswithout makingastatement about causeandeffect.Correlationcoefficientsrangefrom-1to1, withavalueof 0indicatingnolinearrelationshipbetweenthetwovariables, avalueof 1indicatingaperfect positivelinearrelationship, andavalueof -1indicatingaperfectnegativelinearrelationship.\\nCorrelationisimportantinstatisticsbecauseitcanbeusedto\\n1. Identifyrelationshipsbetweenvariables:Correlationcanbeusedtoidentifywhetherthereisarelationshipbetweentwovariables, andif so, whethertherelationshipispositiveornegative. Thisinformationcanbeuseful forunderstandingtherelationshipsbetweendifferent factorsinacomplexsystem.\\n2. Makepredictions:If thereisastrongcorrelationbetweentwovariables, it ispossibletousethevalueof onevariabletopredictthevalueof theothervariable. Thiscanbeuseful formakingpredictionsinavarietyof fields, suchasbusiness, finance, andmedicine.\\n3. Developcausalmodels:Correlationcanbeusedasastartingpoint fordevelopingcausal models, whicharemodelsthatdescribehowchangesinonevariablecausechangesinothervariables. Causal modelscanbeusedtomakemoreaccuratepredictionsandtodevelopinterventionstochangethevaluesofspecificvariables.Correlationisusedinawidevarietyoffieldsincluding\\n1. Business:Correlationcanbeusedtoidentifyrelationshipsbetweendifferent businessvariables, suchassales, advertisingspending, andcustomersatisfaction. Thisinformationcanbeusedtomakebetterbusinessdecisions, suchashowtoallocatemarketingresources.\\n2. Finance:Correlationcanbeusedtoidentifyrelationshipsbetweendifferent financial assets, suchasstocks, bonds, andcommodities.Thisinformationcanbeusedtobuilddiversifiedportfoliosthatreducerisk.\\n3. Medicine:Correlationcanbeusedtoidentifyrelationshipsbetweendifferent medical variables, suchasriskfactorsfordiseasesandtheeffectivenessof treatments. Thisinformationcanbeusedtoimprovetheprevention, diagnosis, andtreatment ofdiseases.\\n4. Psychology:Correlationcanbeusedtoidentifyrelationshipsbetweendifferent psychological variables, suchaspersonalitytraits, cognitiveabilities, andmental disorders. Thisinformationcanbeusedtodevelopbetterpsychological assessmentsandtreatments.\\nHowcorrelationisusedintherealworld\\n1. Amarketingmanagermight usecorrelationtoidentifytherelationshipbetweenadvertisingspendingandsales. Thisinformationcouldbeusedtodecidehowmuchmoneytoallocatetoadvertising.\\n2. Afinancial analyst might usecorrelationtoidentifytherelationshipbetweenthereturnsof different stocks. Thisinformationcouldbeusedtobuildaportfolioof stocksthat isdiversifiedandhasaloweroverall risk.\\n3. Amedical researchermight usecorrelationtoidentifytherelationshipbetweensmokingandlungcancer. Thisinformationcouldbeusedtodeveloppublichealthcampaignstodiscouragesmoking.\\n4. Apsychologist might usecorrelationtoidentifytherelationshipbetweenanxietyanddepression. Thisinformationcouldbeusedtodevelopmoreeffectivetreatmentsforanxietyanddepression.\\nConclusion\\nItisimportanttonotethatcorrelationdoesnotequalcausation.Justbecausetwovariablesarecorrelateddoesnotmeanthatonevariablecausestheother. Forexample,thereisastrongcorrelationbetweenicecreamsalesandsharkattacks.However, thisdoesnotmeanthateatingicecreamcausessharkattacks.Instead,thereislikelyathirdvariable,suchashotweather, thatcausesbothicecreamsalesandsharkattackstoincrease.\\nOverall,correlationisapowerfulstatisticaltoolthatcanbeusedtoidentifyrelationshipsbetweenvariables,makepredictions,anddevelopcausalmodels.Itisusedinawidevarietyoffieldstomakebetterdecisionsandimproveoutcomes.'"
      ]
     },
     "execution_count": 12,
     "metadata": {},
     "output_type": "execute_result"
    }
   ],
   "source": [
    "question_gen"
   ]
  },
  {
   "cell_type": "code",
   "execution_count": 13,
   "metadata": {},
   "outputs": [],
   "source": [
    "from langchain.text_splitter import TokenTextSplitter\n"
   ]
  },
  {
   "cell_type": "code",
   "execution_count": 14,
   "metadata": {},
   "outputs": [],
   "source": [
    "splitter_ques_gen = TokenTextSplitter(\n",
    "    model_name= \"gpt-3.5-turbo\",\n",
    "    chunk_size= 10000,\n",
    "    chunk_overlap = 200\n",
    ")"
   ]
  },
  {
   "cell_type": "code",
   "execution_count": 15,
   "metadata": {},
   "outputs": [],
   "source": [
    "chunk_ques_gen = splitter_ques_gen.split_text(question_gen)"
   ]
  },
  {
   "cell_type": "code",
   "execution_count": 16,
   "metadata": {},
   "outputs": [
    {
     "data": {
      "text/plain": [
       "1"
      ]
     },
     "execution_count": 16,
     "metadata": {},
     "output_type": "execute_result"
    }
   ],
   "source": [
    "len(chunk_ques_gen)"
   ]
  },
  {
   "cell_type": "code",
   "execution_count": 17,
   "metadata": {},
   "outputs": [
    {
     "data": {
      "text/plain": [
       "list"
      ]
     },
     "execution_count": 17,
     "metadata": {},
     "output_type": "execute_result"
    }
   ],
   "source": [
    "type(chunk_ques_gen)\n"
   ]
  },
  {
   "cell_type": "code",
   "execution_count": 18,
   "metadata": {},
   "outputs": [
    {
     "data": {
      "text/plain": [
       "str"
      ]
     },
     "execution_count": 18,
     "metadata": {},
     "output_type": "execute_result"
    }
   ],
   "source": [
    "type(chunk_ques_gen[0])"
   ]
  },
  {
   "cell_type": "code",
   "execution_count": 19,
   "metadata": {},
   "outputs": [
    {
     "data": {
      "text/plain": [
       "['ImportanceandtheuseofcorrelationinStatistics\\nIntroduction\\nCorrelationisastatistical measurethat expressestheextent towhichtwovariablesarelinearlyrelated. It isacommontool fordescribingsimplerelationshipswithout makingastatement about causeandeffect.Correlationcoefficientsrangefrom-1to1, withavalueof 0indicatingnolinearrelationshipbetweenthetwovariables, avalueof 1indicatingaperfect positivelinearrelationship, andavalueof -1indicatingaperfectnegativelinearrelationship.\\nCorrelationisimportantinstatisticsbecauseitcanbeusedto\\n1. Identifyrelationshipsbetweenvariables:Correlationcanbeusedtoidentifywhetherthereisarelationshipbetweentwovariables, andif so, whethertherelationshipispositiveornegative. Thisinformationcanbeuseful forunderstandingtherelationshipsbetweendifferent factorsinacomplexsystem.\\n2. Makepredictions:If thereisastrongcorrelationbetweentwovariables, it ispossibletousethevalueof onevariabletopredictthevalueof theothervariable. Thiscanbeuseful formakingpredictionsinavarietyof fields, suchasbusiness, finance, andmedicine.\\n3. Developcausalmodels:Correlationcanbeusedasastartingpoint fordevelopingcausal models, whicharemodelsthatdescribehowchangesinonevariablecausechangesinothervariables. Causal modelscanbeusedtomakemoreaccuratepredictionsandtodevelopinterventionstochangethevaluesofspecificvariables.Correlationisusedinawidevarietyoffieldsincluding\\n1. Business:Correlationcanbeusedtoidentifyrelationshipsbetweendifferent businessvariables, suchassales, advertisingspending, andcustomersatisfaction. Thisinformationcanbeusedtomakebetterbusinessdecisions, suchashowtoallocatemarketingresources.\\n2. Finance:Correlationcanbeusedtoidentifyrelationshipsbetweendifferent financial assets, suchasstocks, bonds, andcommodities.Thisinformationcanbeusedtobuilddiversifiedportfoliosthatreducerisk.\\n3. Medicine:Correlationcanbeusedtoidentifyrelationshipsbetweendifferent medical variables, suchasriskfactorsfordiseasesandtheeffectivenessof treatments. Thisinformationcanbeusedtoimprovetheprevention, diagnosis, andtreatment ofdiseases.\\n4. Psychology:Correlationcanbeusedtoidentifyrelationshipsbetweendifferent psychological variables, suchaspersonalitytraits, cognitiveabilities, andmental disorders. Thisinformationcanbeusedtodevelopbetterpsychological assessmentsandtreatments.\\nHowcorrelationisusedintherealworld\\n1. Amarketingmanagermight usecorrelationtoidentifytherelationshipbetweenadvertisingspendingandsales. Thisinformationcouldbeusedtodecidehowmuchmoneytoallocatetoadvertising.\\n2. Afinancial analyst might usecorrelationtoidentifytherelationshipbetweenthereturnsof different stocks. Thisinformationcouldbeusedtobuildaportfolioof stocksthat isdiversifiedandhasaloweroverall risk.\\n3. Amedical researchermight usecorrelationtoidentifytherelationshipbetweensmokingandlungcancer. Thisinformationcouldbeusedtodeveloppublichealthcampaignstodiscouragesmoking.\\n4. Apsychologist might usecorrelationtoidentifytherelationshipbetweenanxietyanddepression. Thisinformationcouldbeusedtodevelopmoreeffectivetreatmentsforanxietyanddepression.\\nConclusion\\nItisimportanttonotethatcorrelationdoesnotequalcausation.Justbecausetwovariablesarecorrelateddoesnotmeanthatonevariablecausestheother. Forexample,thereisastrongcorrelationbetweenicecreamsalesandsharkattacks.However, thisdoesnotmeanthateatingicecreamcausessharkattacks.Instead,thereislikelyathirdvariable,suchashotweather, thatcausesbothicecreamsalesandsharkattackstoincrease.\\nOverall,correlationisapowerfulstatisticaltoolthatcanbeusedtoidentifyrelationshipsbetweenvariables,makepredictions,anddevelopcausalmodels.Itisusedinawidevarietyoffieldstomakebetterdecisionsandimproveoutcomes.']"
      ]
     },
     "execution_count": 19,
     "metadata": {},
     "output_type": "execute_result"
    }
   ],
   "source": [
    "chunk_ques_gen"
   ]
  },
  {
   "cell_type": "code",
   "execution_count": 20,
   "metadata": {},
   "outputs": [],
   "source": [
    "from langchain.docstore.document import Document"
   ]
  },
  {
   "cell_type": "code",
   "execution_count": 21,
   "metadata": {},
   "outputs": [],
   "source": [
    "document_ques_gen = [Document(page_content = t) for t in chunk_ques_gen]\n"
   ]
  },
  {
   "cell_type": "code",
   "execution_count": 22,
   "metadata": {},
   "outputs": [
    {
     "data": {
      "text/plain": [
       "[Document(metadata={}, page_content='ImportanceandtheuseofcorrelationinStatistics\\nIntroduction\\nCorrelationisastatistical measurethat expressestheextent towhichtwovariablesarelinearlyrelated. It isacommontool fordescribingsimplerelationshipswithout makingastatement about causeandeffect.Correlationcoefficientsrangefrom-1to1, withavalueof 0indicatingnolinearrelationshipbetweenthetwovariables, avalueof 1indicatingaperfect positivelinearrelationship, andavalueof -1indicatingaperfectnegativelinearrelationship.\\nCorrelationisimportantinstatisticsbecauseitcanbeusedto\\n1. Identifyrelationshipsbetweenvariables:Correlationcanbeusedtoidentifywhetherthereisarelationshipbetweentwovariables, andif so, whethertherelationshipispositiveornegative. Thisinformationcanbeuseful forunderstandingtherelationshipsbetweendifferent factorsinacomplexsystem.\\n2. Makepredictions:If thereisastrongcorrelationbetweentwovariables, it ispossibletousethevalueof onevariabletopredictthevalueof theothervariable. Thiscanbeuseful formakingpredictionsinavarietyof fields, suchasbusiness, finance, andmedicine.\\n3. Developcausalmodels:Correlationcanbeusedasastartingpoint fordevelopingcausal models, whicharemodelsthatdescribehowchangesinonevariablecausechangesinothervariables. Causal modelscanbeusedtomakemoreaccuratepredictionsandtodevelopinterventionstochangethevaluesofspecificvariables.Correlationisusedinawidevarietyoffieldsincluding\\n1. Business:Correlationcanbeusedtoidentifyrelationshipsbetweendifferent businessvariables, suchassales, advertisingspending, andcustomersatisfaction. Thisinformationcanbeusedtomakebetterbusinessdecisions, suchashowtoallocatemarketingresources.\\n2. Finance:Correlationcanbeusedtoidentifyrelationshipsbetweendifferent financial assets, suchasstocks, bonds, andcommodities.Thisinformationcanbeusedtobuilddiversifiedportfoliosthatreducerisk.\\n3. Medicine:Correlationcanbeusedtoidentifyrelationshipsbetweendifferent medical variables, suchasriskfactorsfordiseasesandtheeffectivenessof treatments. Thisinformationcanbeusedtoimprovetheprevention, diagnosis, andtreatment ofdiseases.\\n4. Psychology:Correlationcanbeusedtoidentifyrelationshipsbetweendifferent psychological variables, suchaspersonalitytraits, cognitiveabilities, andmental disorders. Thisinformationcanbeusedtodevelopbetterpsychological assessmentsandtreatments.\\nHowcorrelationisusedintherealworld\\n1. Amarketingmanagermight usecorrelationtoidentifytherelationshipbetweenadvertisingspendingandsales. Thisinformationcouldbeusedtodecidehowmuchmoneytoallocatetoadvertising.\\n2. Afinancial analyst might usecorrelationtoidentifytherelationshipbetweenthereturnsof different stocks. Thisinformationcouldbeusedtobuildaportfolioof stocksthat isdiversifiedandhasaloweroverall risk.\\n3. Amedical researchermight usecorrelationtoidentifytherelationshipbetweensmokingandlungcancer. Thisinformationcouldbeusedtodeveloppublichealthcampaignstodiscouragesmoking.\\n4. Apsychologist might usecorrelationtoidentifytherelationshipbetweenanxietyanddepression. Thisinformationcouldbeusedtodevelopmoreeffectivetreatmentsforanxietyanddepression.\\nConclusion\\nItisimportanttonotethatcorrelationdoesnotequalcausation.Justbecausetwovariablesarecorrelateddoesnotmeanthatonevariablecausestheother. Forexample,thereisastrongcorrelationbetweenicecreamsalesandsharkattacks.However, thisdoesnotmeanthateatingicecreamcausessharkattacks.Instead,thereislikelyathirdvariable,suchashotweather, thatcausesbothicecreamsalesandsharkattackstoincrease.\\nOverall,correlationisapowerfulstatisticaltoolthatcanbeusedtoidentifyrelationshipsbetweenvariables,makepredictions,anddevelopcausalmodels.Itisusedinawidevarietyoffieldstomakebetterdecisionsandimproveoutcomes.')]"
      ]
     },
     "execution_count": 22,
     "metadata": {},
     "output_type": "execute_result"
    }
   ],
   "source": [
    "document_ques_gen"
   ]
  },
  {
   "cell_type": "code",
   "execution_count": 23,
   "metadata": {},
   "outputs": [
    {
     "data": {
      "text/plain": [
       "langchain_core.documents.base.Document"
      ]
     },
     "execution_count": 23,
     "metadata": {},
     "output_type": "execute_result"
    }
   ],
   "source": [
    "type(document_ques_gen[0])"
   ]
  },
  {
   "cell_type": "code",
   "execution_count": 24,
   "metadata": {},
   "outputs": [],
   "source": [
    "splitter_ans_gen = TokenTextSplitter(\n",
    "    model_name = 'gpt-3.5-turbo',\n",
    "    chunk_size = 1000,\n",
    "    chunk_overlap = 100\n",
    ")"
   ]
  },
  {
   "cell_type": "code",
   "execution_count": 25,
   "metadata": {},
   "outputs": [],
   "source": [
    "document_answer_gen = splitter_ans_gen.split_documents(\n",
    "    document_ques_gen\n",
    ")"
   ]
  },
  {
   "cell_type": "code",
   "execution_count": 26,
   "metadata": {},
   "outputs": [
    {
     "data": {
      "text/plain": [
       "[Document(metadata={}, page_content='ImportanceandtheuseofcorrelationinStatistics\\nIntroduction\\nCorrelationisastatistical measurethat expressestheextent towhichtwovariablesarelinearlyrelated. It isacommontool fordescribingsimplerelationshipswithout makingastatement about causeandeffect.Correlationcoefficientsrangefrom-1to1, withavalueof 0indicatingnolinearrelationshipbetweenthetwovariables, avalueof 1indicatingaperfect positivelinearrelationship, andavalueof -1indicatingaperfectnegativelinearrelationship.\\nCorrelationisimportantinstatisticsbecauseitcanbeusedto\\n1. Identifyrelationshipsbetweenvariables:Correlationcanbeusedtoidentifywhetherthereisarelationshipbetweentwovariables, andif so, whethertherelationshipispositiveornegative. Thisinformationcanbeuseful forunderstandingtherelationshipsbetweendifferent factorsinacomplexsystem.\\n2. Makepredictions:If thereisastrongcorrelationbetweentwovariables, it ispossibletousethevalueof onevariabletopredictthevalueof theothervariable. Thiscanbeuseful formakingpredictionsinavarietyof fields, suchasbusiness, finance, andmedicine.\\n3. Developcausalmodels:Correlationcanbeusedasastartingpoint fordevelopingcausal models, whicharemodelsthatdescribehowchangesinonevariablecausechangesinothervariables. Causal modelscanbeusedtomakemoreaccuratepredictionsandtodevelopinterventionstochangethevaluesofspecificvariables.Correlationisusedinawidevarietyoffieldsincluding\\n1. Business:Correlationcanbeusedtoidentifyrelationshipsbetweendifferent businessvariables, suchassales, advertisingspending, andcustomersatisfaction. Thisinformationcanbeusedtomakebetterbusinessdecisions, suchashowtoallocatemarketingresources.\\n2. Finance:Correlationcanbeusedtoidentifyrelationshipsbetweendifferent financial assets, suchasstocks, bonds, andcommodities.Thisinformationcanbeusedtobuilddiversifiedportfoliosthatreducerisk.\\n3. Medicine:Correlationcanbeusedtoidentifyrelationshipsbetweendifferent medical variables, suchasriskfactorsfordiseasesandtheeffectivenessof treatments. Thisinformationcanbeusedtoimprovetheprevention, diagnosis, andtreatment ofdiseases.\\n4. Psychology:Correlationcanbeusedtoidentifyrelationshipsbetweendifferent psychological variables, suchaspersonalitytraits, cognitiveabilities, andmental disorders. Thisinformationcanbeusedtodevelopbetterpsychological assessmentsandtreatments.\\nHowcorrelationisusedintherealworld\\n1. Amarketingmanagermight usecorrelationtoidentifytherelationshipbetweenadvertisingspendingandsales. Thisinformationcouldbeusedtodecidehowmuchmoneytoallocatetoadvertising.\\n2. Afinancial analyst might usecorrelationtoidentifytherelationshipbetweenthereturnsof different stocks. Thisinformationcouldbeusedtobuildaportfolioof stocksthat isdiversifiedandhasaloweroverall risk.\\n3. Amedical researchermight usecorrelationtoidentifytherelationshipbetweensmokingandlungcancer. Thisinformationcouldbeusedtodeveloppublichealthcampaignstodiscouragesmoking.\\n4. Apsychologist might usecorrelationtoidentifytherelationshipbetweenanxietyanddepression. Thisinformationcouldbeusedtodevelopmoreeffectivetreatmentsforanxietyanddepression.\\nConclusion\\nItisimportanttonotethatcorrelationdoesnotequalcausation.Justbecausetwovariablesarecorrelateddoesnotmeanthatonevariablecausestheother. Forexample,thereisastrongcorrelationbetweenicecreamsalesandsharkattacks.However, thisdoesnotmeanthateatingicecreamcausessharkattacks.Instead,thereislikelyathirdvariable,suchashotweather, thatcausesbothicecreamsalesandsharkattackstoincrease.\\nOverall,correlationisapowerfulstatisticaltoolthatcanbeusedtoidentifyrelationshipsbetweenvariables,makepredictions,anddevelopcausalmodels.Itisusedinawidevarietyoffieldstomakebetterdecisionsandimproveoutcomes.')]"
      ]
     },
     "execution_count": 26,
     "metadata": {},
     "output_type": "execute_result"
    }
   ],
   "source": [
    "document_answer_gen"
   ]
  },
  {
   "cell_type": "code",
   "execution_count": 27,
   "metadata": {},
   "outputs": [
    {
     "data": {
      "text/plain": [
       "1"
      ]
     },
     "execution_count": 27,
     "metadata": {},
     "output_type": "execute_result"
    }
   ],
   "source": [
    "\n",
    "len(document_answer_gen)"
   ]
  },
  {
   "cell_type": "code",
   "execution_count": 28,
   "metadata": {},
   "outputs": [],
   "source": [
    "from langchain.chat_models import ChatOpenAI"
   ]
  },
  {
   "cell_type": "code",
   "execution_count": 29,
   "metadata": {},
   "outputs": [
    {
     "name": "stderr",
     "output_type": "stream",
     "text": [
      "C:\\Users\\dilee\\AppData\\Local\\Temp\\ipykernel_4932\\1473655646.py:1: LangChainDeprecationWarning: The class `ChatOpenAI` was deprecated in LangChain 0.0.10 and will be removed in 1.0. An updated version of the class exists in the :class:`~langchain-openai package and should be used instead. To use it run `pip install -U :class:`~langchain-openai` and import as `from :class:`~langchain_openai import ChatOpenAI``.\n",
      "  llm_ques_gen_pipeline = ChatOpenAI(\n"
     ]
    }
   ],
   "source": [
    "llm_ques_gen_pipeline = ChatOpenAI(\n",
    "    model = 'gpt-3.5-turbo',\n",
    "    temperature = 0.3\n",
    ")"
   ]
  },
  {
   "cell_type": "code",
   "execution_count": 30,
   "metadata": {},
   "outputs": [],
   "source": [
    "prompt_template = \"\"\"\n",
    "You are an expert at creating questions based on coding materials and documentation.\n",
    "Your goal is to prepare a coder or programmer for their exam and coding tests.\n",
    "You do this by asking questions about the text below:\n",
    "\n",
    "------------\n",
    "{text}\n",
    "------------\n",
    "\n",
    "Create questions that will prepare the coders or programmers for their tests.\n",
    "Make sure not to lose any important information.\n",
    "\n",
    "QUESTIONS:\n",
    "\"\"\""
   ]
  },
  {
   "cell_type": "code",
   "execution_count": 31,
   "metadata": {},
   "outputs": [],
   "source": [
    "from langchain.prompts import PromptTemplate"
   ]
  },
  {
   "cell_type": "code",
   "execution_count": 32,
   "metadata": {},
   "outputs": [],
   "source": [
    "PROMPT_QUESTIONS = PromptTemplate(template=prompt_template, input_variables=['text'])\n"
   ]
  },
  {
   "cell_type": "code",
   "execution_count": 33,
   "metadata": {},
   "outputs": [],
   "source": [
    "refine_template = (\"\"\"\n",
    "You are an expert at creating practice questions based on coding material and documentation.\n",
    "Your goal is to help a coder or programmer prepare for a coding test.\n",
    "We have received some practice questions to a certain extent: {existing_answer}.\n",
    "We have the option to refine the existing questions or add new ones.\n",
    "(only if necessary) with some more context below.\n",
    "------------\n",
    "{text}\n",
    "------------\n",
    "\n",
    "Given the new context, refine the original questions in English.\n",
    "If the context is not helpful, please provide the original questions.\n",
    "QUESTIONS:\n",
    "\"\"\"\n",
    ")"
   ]
  },
  {
   "cell_type": "code",
   "execution_count": 34,
   "metadata": {},
   "outputs": [],
   "source": [
    "REFINE_PROMPT_QUESTIONS = PromptTemplate(\n",
    "    input_variables=[\"existing_answer\", \"text\"],\n",
    "    template=refine_template,\n",
    ")"
   ]
  },
  {
   "cell_type": "code",
   "execution_count": 35,
   "metadata": {},
   "outputs": [],
   "source": [
    "from langchain.chains.summarize import load_summarize_chain\n"
   ]
  },
  {
   "cell_type": "code",
   "execution_count": 36,
   "metadata": {},
   "outputs": [],
   "source": [
    "ques_gen_chain = load_summarize_chain(llm = llm_ques_gen_pipeline, \n",
    "                                          chain_type = \"refine\", \n",
    "                                          verbose = True, \n",
    "                                          question_prompt=PROMPT_QUESTIONS, \n",
    "                                          refine_prompt=REFINE_PROMPT_QUESTIONS)"
   ]
  },
  {
   "cell_type": "code",
   "execution_count": 37,
   "metadata": {},
   "outputs": [
    {
     "name": "stderr",
     "output_type": "stream",
     "text": [
      "C:\\Users\\dilee\\AppData\\Local\\Temp\\ipykernel_4932\\3836958406.py:1: LangChainDeprecationWarning: The method `Chain.run` was deprecated in langchain 0.1.0 and will be removed in 1.0. Use :meth:`~invoke` instead.\n",
      "  ques = ques_gen_chain.run(document_ques_gen)\n"
     ]
    },
    {
     "name": "stdout",
     "output_type": "stream",
     "text": [
      "\n",
      "\n",
      "\u001b[1m> Entering new RefineDocumentsChain chain...\u001b[0m\n",
      "\n",
      "\n",
      "\u001b[1m> Entering new LLMChain chain...\u001b[0m\n",
      "Prompt after formatting:\n",
      "\u001b[32;1m\u001b[1;3m\n",
      "You are an expert at creating questions based on coding materials and documentation.\n",
      "Your goal is to prepare a coder or programmer for their exam and coding tests.\n",
      "You do this by asking questions about the text below:\n",
      "\n",
      "------------\n",
      "ImportanceandtheuseofcorrelationinStatistics\n",
      "Introduction\n",
      "Correlationisastatistical measurethat expressestheextent towhichtwovariablesarelinearlyrelated. It isacommontool fordescribingsimplerelationshipswithout makingastatement about causeandeffect.Correlationcoefficientsrangefrom-1to1, withavalueof 0indicatingnolinearrelationshipbetweenthetwovariables, avalueof 1indicatingaperfect positivelinearrelationship, andavalueof -1indicatingaperfectnegativelinearrelationship.\n",
      "Correlationisimportantinstatisticsbecauseitcanbeusedto\n",
      "1. Identifyrelationshipsbetweenvariables:Correlationcanbeusedtoidentifywhetherthereisarelationshipbetweentwovariables, andif so, whethertherelationshipispositiveornegative. Thisinformationcanbeuseful forunderstandingtherelationshipsbetweendifferent factorsinacomplexsystem.\n",
      "2. Makepredictions:If thereisastrongcorrelationbetweentwovariables, it ispossibletousethevalueof onevariabletopredictthevalueof theothervariable. Thiscanbeuseful formakingpredictionsinavarietyof fields, suchasbusiness, finance, andmedicine.\n",
      "3. Developcausalmodels:Correlationcanbeusedasastartingpoint fordevelopingcausal models, whicharemodelsthatdescribehowchangesinonevariablecausechangesinothervariables. Causal modelscanbeusedtomakemoreaccuratepredictionsandtodevelopinterventionstochangethevaluesofspecificvariables.Correlationisusedinawidevarietyoffieldsincluding\n",
      "1. Business:Correlationcanbeusedtoidentifyrelationshipsbetweendifferent businessvariables, suchassales, advertisingspending, andcustomersatisfaction. Thisinformationcanbeusedtomakebetterbusinessdecisions, suchashowtoallocatemarketingresources.\n",
      "2. Finance:Correlationcanbeusedtoidentifyrelationshipsbetweendifferent financial assets, suchasstocks, bonds, andcommodities.Thisinformationcanbeusedtobuilddiversifiedportfoliosthatreducerisk.\n",
      "3. Medicine:Correlationcanbeusedtoidentifyrelationshipsbetweendifferent medical variables, suchasriskfactorsfordiseasesandtheeffectivenessof treatments. Thisinformationcanbeusedtoimprovetheprevention, diagnosis, andtreatment ofdiseases.\n",
      "4. Psychology:Correlationcanbeusedtoidentifyrelationshipsbetweendifferent psychological variables, suchaspersonalitytraits, cognitiveabilities, andmental disorders. Thisinformationcanbeusedtodevelopbetterpsychological assessmentsandtreatments.\n",
      "Howcorrelationisusedintherealworld\n",
      "1. Amarketingmanagermight usecorrelationtoidentifytherelationshipbetweenadvertisingspendingandsales. Thisinformationcouldbeusedtodecidehowmuchmoneytoallocatetoadvertising.\n",
      "2. Afinancial analyst might usecorrelationtoidentifytherelationshipbetweenthereturnsof different stocks. Thisinformationcouldbeusedtobuildaportfolioof stocksthat isdiversifiedandhasaloweroverall risk.\n",
      "3. Amedical researchermight usecorrelationtoidentifytherelationshipbetweensmokingandlungcancer. Thisinformationcouldbeusedtodeveloppublichealthcampaignstodiscouragesmoking.\n",
      "4. Apsychologist might usecorrelationtoidentifytherelationshipbetweenanxietyanddepression. Thisinformationcouldbeusedtodevelopmoreeffectivetreatmentsforanxietyanddepression.\n",
      "Conclusion\n",
      "Itisimportanttonotethatcorrelationdoesnotequalcausation.Justbecausetwovariablesarecorrelateddoesnotmeanthatonevariablecausestheother. Forexample,thereisastrongcorrelationbetweenicecreamsalesandsharkattacks.However, thisdoesnotmeanthateatingicecreamcausessharkattacks.Instead,thereislikelyathirdvariable,suchashotweather, thatcausesbothicecreamsalesandsharkattackstoincrease.\n",
      "Overall,correlationisapowerfulstatisticaltoolthatcanbeusedtoidentifyrelationshipsbetweenvariables,makepredictions,anddevelopcausalmodels.Itisusedinawidevarietyoffieldstomakebetterdecisionsandimproveoutcomes.\n",
      "------------\n",
      "\n",
      "Create questions that will prepare the coders or programmers for their tests.\n",
      "Make sure not to lose any important information.\n",
      "\n",
      "QUESTIONS:\n",
      "\u001b[0m\n",
      "\n",
      "\u001b[1m> Finished chain.\u001b[0m\n",
      "\n",
      "\u001b[1m> Finished chain.\u001b[0m\n",
      "1. What is correlation in statistics and how is it measured?\n",
      "2. What does a correlation coefficient of 0 indicate? What about a correlation coefficient of 1 and -1?\n",
      "3. Why is correlation important in statistics? Provide examples of how correlation can be used in different fields.\n",
      "4. How can correlation be used to make predictions in various fields such as business, finance, and medicine?\n",
      "5. Explain the difference between correlation and causation. Provide an example from the text to illustrate this concept.\n",
      "6. How can correlation be used in the real world by professionals such as marketing managers, financial analysts, medical researchers, and psychologists?\n",
      "7. Why is it important to note that correlation does not equal causation? Provide an example from the text to support your answer.\n",
      "8. In what ways can correlation be a powerful statistical tool for identifying relationships between variables, making predictions, and developing causal models?\n"
     ]
    }
   ],
   "source": [
    "ques = ques_gen_chain.run(document_ques_gen)\n",
    "\n",
    "print(ques)"
   ]
  },
  {
   "cell_type": "code",
   "execution_count": 38,
   "metadata": {},
   "outputs": [],
   "source": [
    "from langchain.embeddings.openai import OpenAIEmbeddings"
   ]
  },
  {
   "cell_type": "code",
   "execution_count": 39,
   "metadata": {},
   "outputs": [
    {
     "name": "stderr",
     "output_type": "stream",
     "text": [
      "C:\\Users\\dilee\\AppData\\Local\\Temp\\ipykernel_4932\\2497576997.py:1: LangChainDeprecationWarning: The class `OpenAIEmbeddings` was deprecated in LangChain 0.0.9 and will be removed in 1.0. An updated version of the class exists in the :class:`~langchain-openai package and should be used instead. To use it run `pip install -U :class:`~langchain-openai` and import as `from :class:`~langchain_openai import OpenAIEmbeddings``.\n",
      "  embeddings = OpenAIEmbeddings()\n"
     ]
    }
   ],
   "source": [
    "embeddings = OpenAIEmbeddings()"
   ]
  },
  {
   "cell_type": "code",
   "execution_count": 40,
   "metadata": {},
   "outputs": [],
   "source": [
    "from langchain.vectorstores import FAISS"
   ]
  },
  {
   "cell_type": "code",
   "execution_count": 41,
   "metadata": {},
   "outputs": [],
   "source": [
    "vector_store = FAISS.from_documents(document_answer_gen, embeddings)"
   ]
  },
  {
   "cell_type": "code",
   "execution_count": 42,
   "metadata": {},
   "outputs": [],
   "source": [
    "llm_answer_gen = ChatOpenAI(temperature=0.1, model=\"gpt-3.5-turbo\")"
   ]
  },
  {
   "cell_type": "code",
   "execution_count": 43,
   "metadata": {},
   "outputs": [
    {
     "data": {
      "text/plain": [
       "'1. What is correlation in statistics and how is it measured?\\n2. What does a correlation coefficient of 0 indicate? What about a correlation coefficient of 1 and -1?\\n3. Why is correlation important in statistics? Provide examples of how correlation can be used in different fields.\\n4. How can correlation be used to make predictions in various fields such as business, finance, and medicine?\\n5. Explain the difference between correlation and causation. Provide an example from the text to illustrate this concept.\\n6. How can correlation be used in the real world by professionals such as marketing managers, financial analysts, medical researchers, and psychologists?\\n7. Why is it important to note that correlation does not equal causation? Provide an example from the text to support your answer.\\n8. In what ways can correlation be a powerful statistical tool for identifying relationships between variables, making predictions, and developing causal models?'"
      ]
     },
     "execution_count": 43,
     "metadata": {},
     "output_type": "execute_result"
    }
   ],
   "source": [
    "ques"
   ]
  },
  {
   "cell_type": "code",
   "execution_count": 44,
   "metadata": {},
   "outputs": [],
   "source": [
    "ques_list = ques.split(\"\\n\")"
   ]
  },
  {
   "cell_type": "code",
   "execution_count": 45,
   "metadata": {},
   "outputs": [
    {
     "data": {
      "text/plain": [
       "['1. What is correlation in statistics and how is it measured?',\n",
       " '2. What does a correlation coefficient of 0 indicate? What about a correlation coefficient of 1 and -1?',\n",
       " '3. Why is correlation important in statistics? Provide examples of how correlation can be used in different fields.',\n",
       " '4. How can correlation be used to make predictions in various fields such as business, finance, and medicine?',\n",
       " '5. Explain the difference between correlation and causation. Provide an example from the text to illustrate this concept.',\n",
       " '6. How can correlation be used in the real world by professionals such as marketing managers, financial analysts, medical researchers, and psychologists?',\n",
       " '7. Why is it important to note that correlation does not equal causation? Provide an example from the text to support your answer.',\n",
       " '8. In what ways can correlation be a powerful statistical tool for identifying relationships between variables, making predictions, and developing causal models?']"
      ]
     },
     "execution_count": 45,
     "metadata": {},
     "output_type": "execute_result"
    }
   ],
   "source": [
    "ques_list"
   ]
  },
  {
   "cell_type": "code",
   "execution_count": 46,
   "metadata": {},
   "outputs": [],
   "source": [
    "from langchain.chains import RetrievalQA\n",
    "answer_generation_chain = RetrievalQA.from_chain_type(llm=llm_answer_gen, \n",
    "                                               chain_type=\"stuff\", \n",
    "                                               retriever=vector_store.as_retriever())"
   ]
  },
  {
   "cell_type": "code",
   "execution_count": 48,
   "metadata": {},
   "outputs": [
    {
     "name": "stdout",
     "output_type": "stream",
     "text": [
      "Question: 1. What is correlation in statistics and how is it measured?\n",
      "Answer: Correlation in statistics is a measure that expresses the extent to which two variables are linearly related. It is commonly used to describe simple relationships without implying causation. Correlation coefficients range from -1 to 1, with 0 indicating no linear relationship, 1 indicating a perfect positive linear relationship, and -1 indicating a perfect negative linear relationship. Correlation is measured using correlation coefficients.\n",
      "--------------------------------------------------\\n\\n\n",
      "Question: 2. What does a correlation coefficient of 0 indicate? What about a correlation coefficient of 1 and -1?\n",
      "Answer: A correlation coefficient of 0 indicates no linear relationship between the two variables. A correlation coefficient of 1 indicates a perfect positive linear relationship, meaning that as one variable increases, the other variable also increases in a perfectly linear manner. On the other hand, a correlation coefficient of -1 indicates a perfect negative linear relationship, meaning that as one variable increases, the other variable decreases in a perfectly linear manner.\n",
      "--------------------------------------------------\\n\\n\n",
      "Question: 3. Why is correlation important in statistics? Provide examples of how correlation can be used in different fields.\n",
      "Answer: Correlation is important in statistics because it helps identify relationships between variables, make predictions, and develop causal models. For example, in business, correlation can be used to understand the relationship between sales, advertising spending, and customer satisfaction to make better decisions on resource allocation. In finance, correlation can help identify relationships between different financial assets like stocks, bonds, and commodities to build diversified portfolios that reduce risk. In medicine, correlation can be used to identify relationships between risk factors for diseases and treatment effectiveness to improve prevention, diagnosis, and treatment. In psychology, correlation can help identify relationships between personality traits, cognitive abilities, and mental disorders to develop better assessments and treatments.\n",
      "--------------------------------------------------\\n\\n\n",
      "Question: 4. How can correlation be used to make predictions in various fields such as business, finance, and medicine?\n",
      "Answer: Correlation can be used to make predictions in various fields by identifying strong relationships between two variables. If there is a strong correlation between two variables, it is possible to use the value of one variable to predict the value of the other variable. For example, in business, if there is a strong correlation between advertising spending and sales, a marketing manager can use this information to predict how changes in advertising spending may impact sales. Similarly, in finance, if there is a strong correlation between the returns of different stocks, a financial analyst can use this information to predict how changes in one stock may affect the returns of another. In medicine, correlations between risk factors for diseases and the effectiveness of treatments can be used to predict outcomes and improve prevention and treatment strategies.\n",
      "--------------------------------------------------\\n\\n\n",
      "Question: 5. Explain the difference between correlation and causation. Provide an example from the text to illustrate this concept.\n",
      "Answer: The difference between correlation and causation is that correlation simply shows a relationship between two variables, while causation implies that one variable directly causes a change in another variable. \n",
      "\n",
      "An example from the text that illustrates this concept is the correlation between ice cream sales and shark attacks. There is a strong correlation between these two variables, meaning that as ice cream sales increase, so do shark attacks. However, this does not mean that eating ice cream causes shark attacks. The underlying cause for both increasing could be a third variable, such as hot weather, which leads to both more ice cream sales and more people swimming in the ocean, thus increasing the likelihood of shark attacks. This example highlights that correlation does not imply causation.\n",
      "--------------------------------------------------\\n\\n\n",
      "Question: 6. How can correlation be used in the real world by professionals such as marketing managers, financial analysts, medical researchers, and psychologists?\n",
      "Answer: 1. A marketing manager might use correlation to identify the relationship between advertising spending and sales. This information could be used to decide how much money to allocate to advertising.\n",
      "2. A financial analyst might use correlation to identify the relationship between the returns of different stocks. This information could be used to build a portfolio of stocks that is diversified and has a lower overall risk.\n",
      "3. A medical researcher might use correlation to identify the relationship between smoking and lung cancer. This information could be used to develop public health campaigns to discourage smoking.\n",
      "4. A psychologist might use correlation to identify the relationship between anxiety and depression. This information could be used to develop more effective treatments for anxiety and depression.\n",
      "--------------------------------------------------\\n\\n\n",
      "Question: 7. Why is it important to note that correlation does not equal causation? Provide an example from the text to support your answer.\n",
      "Answer: It is important to note that correlation does not equal causation because just because two variables are correlated, it does not necessarily mean that one variable causes the other. For example, in the text, it is mentioned that there is a strong correlation between ice cream sales and shark attacks. However, this correlation does not mean that eating ice cream causes shark attacks. The underlying cause for both increasing could be a third variable, such as hot weather, which influences both ice cream sales and shark attacks. This example highlights the importance of not assuming causation based solely on correlation.\n",
      "--------------------------------------------------\\n\\n\n",
      "Question: 8. In what ways can correlation be a powerful statistical tool for identifying relationships between variables, making predictions, and developing causal models?\n",
      "Error occurred: Error code: 403 - {'error': {'message': 'Project `proj_fQSPxFmT4v6d4n1oE2LCRiyW` does not have access to model `text-embedding-ada-002`', 'type': 'invalid_request_error', 'param': None, 'code': 'model_not_found'}}\n",
      "Retrying...\n",
      "Question: 8. In what ways can correlation be a powerful statistical tool for identifying relationships between variables, making predictions, and developing causal models?\n",
      "Answer: Correlation can be a powerful statistical tool in several ways:\n",
      "\n",
      "1. **Identifying Relationships between Variables:** Correlation helps in determining if there is a relationship between two variables and the nature of that relationship (positive, negative, or no relationship). This is crucial for understanding how different factors interact in a system.\n",
      "\n",
      "2. **Making Predictions:** Strong correlations between variables allow for the prediction of one variable based on the other. This predictive power can be utilized in various fields like business, finance, and medicine to forecast outcomes and trends.\n",
      "\n",
      "3. **Developing Causal Models:** Correlation serves as a starting point for developing causal models that explain how changes in one variable lead to changes in others. By understanding these causal relationships, more accurate predictions can be made, and interventions can be designed to influence specific variables positively.\n",
      "\n",
      "In summary, correlation is a versatile tool that helps in uncovering relationships, predicting outcomes, and building models that explain cause-and-effect relationships between variables in different fields.\n",
      "--------------------------------------------------\\n\\n\n"
     ]
    }
   ],
   "source": [
    "import time\n",
    "\n",
    "# Open the file in append mode once to reduce repetitive opening/closing\n",
    "with open(\"answers.txt\", \"a\") as f:\n",
    "    for question in ques_list:\n",
    "        for attempt in range(3):  # Retry up to 3 times\n",
    "            try:\n",
    "                print(\"Question:\", question)\n",
    "                answer = answer_generation_chain.run(question)\n",
    "                print(\"Answer:\", answer)\n",
    "                print(\"--------------------------------------------------\\\\n\\\\n\")\n",
    "                \n",
    "                # Write to file\n",
    "                f.write(\"Question: \" + question + \"\\n\")\n",
    "                f.write(\"Answer: \" + answer + \"\\n\")\n",
    "                f.write(\"--------------------------------------------------\\n\\n\")\n",
    "                \n",
    "                break  # Exit retry loop if successful\n",
    "            except Exception as e:\n",
    "                print(f\"Error occurred: {e}\")\n",
    "                if attempt < 2:  # Only wait if not on last attempt\n",
    "                    print(\"Retrying...\")\n",
    "                    time.sleep(1)\n",
    "                else:\n",
    "                    # Log the error to the file if all retries fail\n",
    "                    f.write(\"Question: \" + question + \"\\n\")\n",
    "                    f.write(\"Error: Could not retrieve answer after multiple attempts.\\n\")\n",
    "                    f.write(\"--------------------------------------------------\\n\\n\")\n"
   ]
  },
  {
   "cell_type": "code",
   "execution_count": null,
   "metadata": {},
   "outputs": [],
   "source": []
  }
 ],
 "metadata": {
  "kernelspec": {
   "display_name": "interview",
   "language": "python",
   "name": "python3"
  },
  "language_info": {
   "codemirror_mode": {
    "name": "ipython",
    "version": 3
   },
   "file_extension": ".py",
   "mimetype": "text/x-python",
   "name": "python",
   "nbconvert_exporter": "python",
   "pygments_lexer": "ipython3",
   "version": "3.10.15"
  }
 },
 "nbformat": 4,
 "nbformat_minor": 2
}
